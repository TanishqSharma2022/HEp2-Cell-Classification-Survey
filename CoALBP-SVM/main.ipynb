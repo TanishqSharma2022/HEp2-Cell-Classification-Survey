{
 "cells": [
  {
   "cell_type": "markdown",
   "metadata": {},
   "source": [
    "# `Results on Main dataset with 28 images`"
   ]
  },
  {
   "cell_type": "markdown",
   "metadata": {},
   "source": [
    "# No Feature Extraction"
   ]
  },
  {
   "cell_type": "code",
   "execution_count": 2,
   "metadata": {},
   "outputs": [],
   "source": [
    "from PIL import Image, ImageFilter"
   ]
  },
  {
   "cell_type": "code",
   "execution_count": 3,
   "metadata": {},
   "outputs": [
    {
     "name": "stdout",
     "output_type": "stream",
     "text": [
      "Accuracy: 44.33%\n",
      "              precision    recall  f1-score   support\n",
      "\n",
      "           1       0.46      0.55      0.50        75\n",
      "           2       0.20      0.25      0.22        36\n",
      "           3       0.54      0.62      0.58        69\n",
      "           4       0.51      0.43      0.47        46\n",
      "           5       0.43      0.22      0.29        45\n",
      "           6       0.43      0.30      0.35        20\n",
      "\n",
      "    accuracy                           0.44       291\n",
      "   macro avg       0.43      0.40      0.40       291\n",
      "weighted avg       0.45      0.44      0.44       291\n",
      "\n"
     ]
    }
   ],
   "source": [
    "import os\n",
    "import numpy as np\n",
    "from sklearn.model_selection import train_test_split\n",
    "from sklearn import svm\n",
    "from sklearn.metrics import classification_report, accuracy_score\n",
    "from PIL import Image\n",
    "\n",
    "# Set the path to the main folder containing 28 subfolders\n",
    "main_folder = r'C:\\Users\\TANISHQ\\Documents\\GitHub\\HEp2-Cell-Classification-Survey\\MIVIA_HEp-2_Images_Dataset\\Main_Dataset\\Cells\\Cell_Images'\n",
    "\n",
    "# Mapping folder numbers (1-28) to 6 main classes\n",
    "folder_to_class = {\n",
    "    1: 1, 2: 2, 3: 3, 4: 4, 5: 1, 6: 5, 7: 3, 8: 4, 9: 2, 10: 5,\n",
    "    11: 5, 12: 5, 13: 3, 14: 3, 15: 2, 16: 3, 17: 5, 18: 1, 19: 3,\n",
    "    20: 4, 21: 1, 22: 1, 23: 2, 24: 4, 25: 6, 26: 6, 27: 6, 28: 6\n",
    "}\n",
    "\n",
    "# Function to load images and flatten pixel values from all 28 subfolders\n",
    "def load_images_and_flatten(main_folder, image_size=(10, 10)):\n",
    "    image_data = []\n",
    "    labels = []\n",
    "    for i in range(1, 29):  # Folders are numbered from 01 to 28\n",
    "        folder_path = os.path.join(main_folder, f'{i:02d}')\n",
    "        class_label = folder_to_class[i]  # Map the folder to the appropriate class\n",
    "        for img_name in os.listdir(folder_path):\n",
    "            img_path = os.path.join(folder_path, img_name)\n",
    "            img = Image.open(img_path).convert('L')  # Convert to grayscale\n",
    "            img = img.resize(image_size)  # Resize to a fixed size\n",
    "            img_array = np.array(img).flatten()  # Flatten the image to a 1D array\n",
    "            image_data.append(img_array)\n",
    "            labels.append(class_label)  # Append the class label\n",
    "    return np.array(image_data), np.array(labels)\n",
    "\n",
    "# Load the dataset and extract pixel values\n",
    "image_data, labels = load_images_and_flatten(main_folder)\n",
    "\n",
    "# Split the data into training and testing sets\n",
    "X_train, X_test, y_train, y_test = train_test_split(image_data, labels, test_size=0.2, random_state=42)\n",
    "\n",
    "# Create an SVM classifier\n",
    "clf = svm.SVC(kernel='linear')\n",
    "\n",
    "# Train the classifier\n",
    "clf.fit(X_train, y_train)\n",
    "\n",
    "# Predict on the test set\n",
    "y_pred = clf.predict(X_test)\n",
    "\n",
    "# Evaluate the classifier\n",
    "accuracy = accuracy_score(y_test, y_pred)\n",
    "report = classification_report(y_test, y_pred)\n",
    "\n",
    "print(f\"Accuracy: {accuracy * 100:.2f}%\")\n",
    "print(report)\n"
   ]
  },
  {
   "cell_type": "code",
   "execution_count": 4,
   "metadata": {},
   "outputs": [
    {
     "data": {
      "text/plain": [
       "(1164, 291)"
      ]
     },
     "execution_count": 4,
     "metadata": {},
     "output_type": "execute_result"
    }
   ],
   "source": [
    "len(X_train), len(X_test)"
   ]
  },
  {
   "cell_type": "markdown",
   "metadata": {},
   "source": [
    "# LBP + SVM"
   ]
  },
  {
   "cell_type": "code",
   "execution_count": 5,
   "metadata": {},
   "outputs": [],
   "source": [
    "import numpy as np\n",
    "from skimage.feature import local_binary_pattern as lbp\n",
    "\n",
    "def LBP(image, points=8, radius=1):\n",
    "    '''\n",
    "    Uniform Local Binary Patterns algorithm for one channel (2D image)\n",
    "    Input image with shape (height, width)\n",
    "    Output feature vector of length 59 (uniform LBP patterns)\n",
    "    '''\n",
    "    # calculate pattern length for uniform LBP (59 possible patterns for 'nri_uniform')\n",
    "    length = 59\n",
    "    \n",
    "    # Apply LBP to the 2D grayscale image\n",
    "    pattern = lbp(image, points, radius, method='nri_uniform')\n",
    "    pattern = pattern.astype(np.int64).ravel()  # Flatten the LBP result\n",
    "    pattern = np.bincount(pattern, minlength=length)  # Count occurrences of each pattern\n",
    "    \n",
    "    # Normalize the histogram and return it\n",
    "    features = (pattern - np.mean(pattern)) / (np.std(pattern) + 1e-8)\n",
    "    \n",
    "    return features\n"
   ]
  },
  {
   "cell_type": "code",
   "execution_count": 6,
   "metadata": {},
   "outputs": [
    {
     "name": "stdout",
     "output_type": "stream",
     "text": [
      "Accuracy: 67.70%\n",
      "              precision    recall  f1-score   support\n",
      "\n",
      "           1       0.75      0.63      0.68        75\n",
      "           2       0.50      0.56      0.53        36\n",
      "           3       0.67      0.74      0.70        69\n",
      "           4       0.62      0.80      0.70        46\n",
      "           5       0.76      0.62      0.68        45\n",
      "           6       0.93      0.70      0.80        20\n",
      "\n",
      "    accuracy                           0.68       291\n",
      "   macro avg       0.70      0.67      0.68       291\n",
      "weighted avg       0.69      0.68      0.68       291\n",
      "\n"
     ]
    }
   ],
   "source": [
    "import os\n",
    "import numpy as np\n",
    "from sklearn.model_selection import train_test_split\n",
    "from sklearn import svm\n",
    "from sklearn.metrics import classification_report, accuracy_score\n",
    "from skimage.feature import local_binary_pattern\n",
    "from PIL import Image\n",
    "\n",
    "# Set the path to the main folder containing 28 subfolders\n",
    "main_folder = r'C:\\Users\\TANISHQ\\Documents\\GitHub\\HEp2-Cell-Classification-Survey\\MIVIA_HEp-2_Images_Dataset\\Main_Dataset\\Cells\\Cell_Images'\n",
    "\n",
    "# Mapping folder numbers (1-28) to 6 main classes\n",
    "folder_to_class = {\n",
    "    1: 1, 2: 2, 3: 3, 4: 4, 5: 1, 6: 5, 7: 3, 8: 4, 9: 2, 10: 5,\n",
    "    11: 5, 12: 5, 13: 3, 14: 3, 15: 2, 16: 3, 17: 5, 18: 1, 19: 3,\n",
    "    20: 4, 21: 1, 22: 1, 23: 2, 24: 4, 25: 6, 26: 6, 27: 6, 28: 6\n",
    "}\n",
    "\n",
    "# Function to load images and extract LBP histograms from all 28 subfolders\n",
    "def load_images_and_extract_lbp(main_folder):\n",
    "    lbp_histograms = []\n",
    "    labels = []\n",
    "    for i in range(1, 29):  # Folders are numbered from 01 to 28\n",
    "        folder_path = os.path.join(main_folder, f'{i:02d}')\n",
    "        class_label = folder_to_class[i]  # Map the folder to the appropriate class\n",
    "        for img_name in os.listdir(folder_path):\n",
    "            img_path = os.path.join(folder_path, img_name)\n",
    "            img = Image.open(img_path).convert('L')  # Convert to grayscale\n",
    "            img = img.resize((64, 64))  # Resize to a fixed size\n",
    "            img_array = np.array(img)  # Convert the image to a NumPy array\n",
    "\n",
    "            # Extract LBP histogram\n",
    "            lbp_hist = LBP(img_array)\n",
    "            lbp_histograms.append(lbp_hist)\n",
    "            labels.append(class_label)  # Append the class label\n",
    "    return np.array(lbp_histograms), np.array(labels)\n",
    "\n",
    "# Load the dataset and extract LBP histograms\n",
    "lbp_histograms, labels = load_images_and_extract_lbp(main_folder)\n",
    "\n",
    "# Split the data into training and testing sets\n",
    "X_train, X_test, y_train, y_test = train_test_split(lbp_histograms, labels, test_size=0.2, random_state=42)\n",
    "\n",
    "# Create an SVM classifier\n",
    "clf = svm.SVC(kernel='linear')\n",
    "\n",
    "# Train the classifier\n",
    "clf.fit(X_train, y_train)\n",
    "\n",
    "# Predict on the test set\n",
    "y_pred = clf.predict(X_test)\n",
    "\n",
    "# Evaluate the classifier\n",
    "accuracy = accuracy_score(y_test, y_pred)\n",
    "report = classification_report(y_test, y_pred)\n",
    "\n",
    "print(f\"Accuracy: {accuracy * 100:.2f}%\")\n",
    "print(report)\n"
   ]
  },
  {
   "cell_type": "markdown",
   "metadata": {},
   "source": [
    "# Co-occurence Among Local Binary Patterns + SVM"
   ]
  },
  {
   "cell_type": "code",
   "execution_count": 7,
   "metadata": {},
   "outputs": [],
   "source": [
    "def CoALBP(image, lbp_r=1, co_r=2):\n",
    "    '''\n",
    "    Co-occurrence of Adjacent Local Binary Patterns algorithm for a single channel\n",
    "    Input image with shape (height, width)\n",
    "    Input lbp_r is radius for adjacent local binary patterns\n",
    "    Input co_r is radius for co-occurrence of the patterns\n",
    "    Output features with length 1024\n",
    "    '''\n",
    "    h, w = image.shape\n",
    "    # normalize the image\n",
    "    image = (image - np.mean(image)) / (np.std(image) + 1e-8)\n",
    "    \n",
    "    # Get the center pixels C\n",
    "    C = image[lbp_r:h-lbp_r, lbp_r:w-lbp_r].astype(float)\n",
    "    \n",
    "    # Initialize the adjacent patterns array\n",
    "    X = np.zeros((4, h-2*lbp_r, w-2*lbp_r))\n",
    "    \n",
    "    # adjacent local binary patterns\n",
    "    X[0, :, :] = image[lbp_r  :h-lbp_r  , lbp_r+lbp_r:w-lbp_r+lbp_r] - C  # right\n",
    "    X[1, :, :] = image[lbp_r-lbp_r:h-lbp_r-lbp_r, lbp_r  :w-lbp_r  ] - C  # top\n",
    "    X[2, :, :] = image[lbp_r  :h-lbp_r  , lbp_r-lbp_r:w-lbp_r-lbp_r] - C  # left\n",
    "    X[3, :, :] = image[lbp_r+lbp_r:h-lbp_r+lbp_r, lbp_r  :w-lbp_r  ] - C  # bottom\n",
    "    \n",
    "    # Apply the threshold to get binary values (LBP)\n",
    "    X = (X > 0).reshape(4, -1)\n",
    "    \n",
    "    # Co-occurrence of the patterns\n",
    "    A = np.dot(np.array([1, 2, 4, 8]), X)\n",
    "    A = A.reshape(h-2*lbp_r, w-2*lbp_r) + 1\n",
    "    \n",
    "    # Calculate co-occurrence offsets\n",
    "    hh, ww = A.shape\n",
    "    D = (A[co_r:hh-co_r, co_r:ww-co_r] - 1) * 16 - 1\n",
    "    \n",
    "    # Compute co-occurrences in four directions\n",
    "    Y1 = A[co_r:hh-co_r, co_r+co_r:ww-co_r+co_r] + D  # right\n",
    "    Y2 = A[co_r-co_r:hh-co_r-co_r, co_r+co_r:ww-co_r+co_r] + D  # top-right\n",
    "    Y3 = A[co_r-co_r:hh-co_r-co_r, co_r:ww-co_r] + D  # top\n",
    "    Y4 = A[co_r-co_r:hh-co_r-co_r, co_r-co_r:ww-co_r-co_r] + D  # top-left\n",
    "    \n",
    "    # Compute histograms\n",
    "    Y1 = np.bincount(Y1.ravel(), minlength=256)\n",
    "    Y2 = np.bincount(Y2.ravel(), minlength=256)\n",
    "    Y3 = np.bincount(Y3.ravel(), minlength=256)\n",
    "    Y4 = np.bincount(Y4.ravel(), minlength=256)\n",
    "    \n",
    "    # Concatenate histograms from all directions\n",
    "    pattern = np.concatenate((Y1, Y2, Y3, Y4))\n",
    "    \n",
    "    # Normalize the histogram and return it\n",
    "    features = (pattern - np.mean(pattern)) / np.std(pattern)\n",
    "    return features\n"
   ]
  },
  {
   "cell_type": "code",
   "execution_count": 8,
   "metadata": {},
   "outputs": [
    {
     "name": "stdout",
     "output_type": "stream",
     "text": [
      "Accuracy: 85.57%\n",
      "              precision    recall  f1-score   support\n",
      "\n",
      "           1       0.86      0.84      0.85        75\n",
      "           2       0.66      0.75      0.70        36\n",
      "           3       0.94      0.93      0.93        69\n",
      "           4       0.77      0.89      0.83        46\n",
      "           5       0.95      0.82      0.88        45\n",
      "           6       1.00      0.85      0.92        20\n",
      "\n",
      "    accuracy                           0.86       291\n",
      "   macro avg       0.86      0.85      0.85       291\n",
      "weighted avg       0.86      0.86      0.86       291\n",
      "\n"
     ]
    }
   ],
   "source": [
    "import os\n",
    "import numpy as np\n",
    "from sklearn.model_selection import train_test_split\n",
    "from sklearn import svm\n",
    "from sklearn.metrics import classification_report, accuracy_score\n",
    "from skimage.feature import local_binary_pattern\n",
    "from PIL import Image\n",
    "\n",
    "# Set the path to the main folder containing 28 subfolders\n",
    "main_folder = r'C:\\Users\\TANISHQ\\Documents\\GitHub\\HEp2-Cell-Classification-Survey\\MIVIA_HEp-2_Images_Dataset\\Main_Dataset\\Cells\\Cell_Images'\n",
    "\n",
    "# LBP Parameters\n",
    "radius = 3  # Radius for LBP\n",
    "n_points = 8 * radius  # Number of points to consider for LBP\n",
    "n_bins = n_points + 2  # Number of bins for LBP histogram\n",
    "\n",
    "# Mapping folder numbers (1-28) to 6 main classes\n",
    "folder_to_class = {\n",
    "    1: 1, 2: 2, 3: 3, 4: 4, 5: 1, 6: 5, 7: 3, 8: 4, 9: 2, 10: 5,\n",
    "    11: 5, 12: 5, 13: 3, 14: 3, 15: 2, 16: 3, 17: 5, 18: 1, 19: 3,\n",
    "    20: 4, 21: 1, 22: 1, 23: 2, 24: 4, 25: 6, 26: 6, 27: 6, 28: 6\n",
    "}\n",
    "\n",
    "# Function to compute LBP histogram features\n",
    "\n",
    "# Function to load images and extract LBP histograms from all 28 subfolders\n",
    "def load_images_and_extract_lbp(main_folder):\n",
    "    lbp_histograms = []\n",
    "    labels = []\n",
    "    for i in range(1, 29):  # Folders are numbered from 01 to 28\n",
    "        folder_path = os.path.join(main_folder, f'{i:02d}')\n",
    "        class_label = folder_to_class[i]  # Map the folder to the appropriate class\n",
    "        for img_name in os.listdir(folder_path):\n",
    "            img_path = os.path.join(folder_path, img_name)\n",
    "            img = Image.open(img_path).convert('L')  # Convert to grayscale\n",
    "            img = img.resize((64, 64))  # Resize to a fixed size\n",
    "            img_array = np.array(img)  # Convert the image to a NumPy array\n",
    "\n",
    "            # Extract LBP histogram\n",
    "            lbp_hist = CoALBP(img_array)\n",
    "            lbp_histograms.append(lbp_hist)\n",
    "            labels.append(class_label)  # Append the class label\n",
    "    return np.array(lbp_histograms), np.array(labels)\n",
    "\n",
    "# Load the dataset and extract LBP histograms\n",
    "lbp_histograms, labels = load_images_and_extract_lbp(main_folder)\n",
    "\n",
    "# Split the data into training and testing sets\n",
    "X_train, X_test, y_train, y_test = train_test_split(lbp_histograms, labels, test_size=0.2, random_state=42)\n",
    "\n",
    "# Create an SVM classifier\n",
    "clf = svm.SVC(kernel='linear')\n",
    "\n",
    "# Train the classifier\n",
    "clf.fit(X_train, y_train)\n",
    "\n",
    "# Predict on the test set\n",
    "y_pred = clf.predict(X_test)\n",
    "\n",
    "# Evaluate the classifier\n",
    "accuracy = accuracy_score(y_test, y_pred)\n",
    "report = classification_report(y_test, y_pred)\n",
    "\n",
    "print(f\"Accuracy: {accuracy * 100:.2f}%\")\n",
    "print(report)\n"
   ]
  },
  {
   "cell_type": "markdown",
   "metadata": {},
   "source": [
    "# `Results on ICPR 2012 Dataset`"
   ]
  },
  {
   "cell_type": "code",
   "execution_count": 9,
   "metadata": {},
   "outputs": [],
   "source": [
    "import os"
   ]
  },
  {
   "cell_type": "code",
   "execution_count": 10,
   "metadata": {},
   "outputs": [
    {
     "data": {
      "text/html": [
       "<div>\n",
       "<style scoped>\n",
       "    .dataframe tbody tr th:only-of-type {\n",
       "        vertical-align: middle;\n",
       "    }\n",
       "\n",
       "    .dataframe tbody tr th {\n",
       "        vertical-align: top;\n",
       "    }\n",
       "\n",
       "    .dataframe thead th {\n",
       "        text-align: right;\n",
       "    }\n",
       "</style>\n",
       "<table border=\"1\" class=\"dataframe\">\n",
       "  <thead>\n",
       "    <tr style=\"text-align: right;\">\n",
       "      <th></th>\n",
       "      <th>ICPR2012Contest_Cell_ID</th>\n",
       "      <th>Set</th>\n",
       "      <th>Image</th>\n",
       "      <th>Intensity</th>\n",
       "      <th>Original_cell_ID</th>\n",
       "      <th>Cell_class</th>\n",
       "      <th>Cell_width</th>\n",
       "      <th>Cell_height</th>\n",
       "    </tr>\n",
       "  </thead>\n",
       "  <tbody>\n",
       "    <tr>\n",
       "      <th>0</th>\n",
       "      <td>1</td>\n",
       "      <td>training</td>\n",
       "      <td>18</td>\n",
       "      <td>positive</td>\n",
       "      <td>30</td>\n",
       "      <td>homogeneous</td>\n",
       "      <td>67</td>\n",
       "      <td>98</td>\n",
       "    </tr>\n",
       "    <tr>\n",
       "      <th>1</th>\n",
       "      <td>2</td>\n",
       "      <td>training</td>\n",
       "      <td>6</td>\n",
       "      <td>positive</td>\n",
       "      <td>14</td>\n",
       "      <td>coarse_speckled</td>\n",
       "      <td>83</td>\n",
       "      <td>76</td>\n",
       "    </tr>\n",
       "    <tr>\n",
       "      <th>2</th>\n",
       "      <td>3</td>\n",
       "      <td>training</td>\n",
       "      <td>1</td>\n",
       "      <td>positive</td>\n",
       "      <td>54</td>\n",
       "      <td>homogeneous</td>\n",
       "      <td>94</td>\n",
       "      <td>80</td>\n",
       "    </tr>\n",
       "    <tr>\n",
       "      <th>3</th>\n",
       "      <td>4</td>\n",
       "      <td>training</td>\n",
       "      <td>8</td>\n",
       "      <td>positive</td>\n",
       "      <td>25</td>\n",
       "      <td>nucleolar</td>\n",
       "      <td>96</td>\n",
       "      <td>72</td>\n",
       "    </tr>\n",
       "    <tr>\n",
       "      <th>4</th>\n",
       "      <td>5</td>\n",
       "      <td>training</td>\n",
       "      <td>8</td>\n",
       "      <td>positive</td>\n",
       "      <td>32</td>\n",
       "      <td>nucleolar</td>\n",
       "      <td>82</td>\n",
       "      <td>83</td>\n",
       "    </tr>\n",
       "    <tr>\n",
       "      <th>...</th>\n",
       "      <td>...</td>\n",
       "      <td>...</td>\n",
       "      <td>...</td>\n",
       "      <td>...</td>\n",
       "      <td>...</td>\n",
       "      <td>...</td>\n",
       "      <td>...</td>\n",
       "      <td>...</td>\n",
       "    </tr>\n",
       "    <tr>\n",
       "      <th>1450</th>\n",
       "      <td>730</td>\n",
       "      <td>test</td>\n",
       "      <td>22</td>\n",
       "      <td>positive</td>\n",
       "      <td>48</td>\n",
       "      <td>homogeneous</td>\n",
       "      <td>74</td>\n",
       "      <td>82</td>\n",
       "    </tr>\n",
       "    <tr>\n",
       "      <th>1451</th>\n",
       "      <td>731</td>\n",
       "      <td>test</td>\n",
       "      <td>27</td>\n",
       "      <td>positive</td>\n",
       "      <td>17</td>\n",
       "      <td>cytoplasmatic</td>\n",
       "      <td>78</td>\n",
       "      <td>209</td>\n",
       "    </tr>\n",
       "    <tr>\n",
       "      <th>1452</th>\n",
       "      <td>732</td>\n",
       "      <td>test</td>\n",
       "      <td>24</td>\n",
       "      <td>positive</td>\n",
       "      <td>47</td>\n",
       "      <td>nucleolar</td>\n",
       "      <td>85</td>\n",
       "      <td>97</td>\n",
       "    </tr>\n",
       "    <tr>\n",
       "      <th>1453</th>\n",
       "      <td>733</td>\n",
       "      <td>test</td>\n",
       "      <td>27</td>\n",
       "      <td>positive</td>\n",
       "      <td>43</td>\n",
       "      <td>cytoplasmatic</td>\n",
       "      <td>78</td>\n",
       "      <td>91</td>\n",
       "    </tr>\n",
       "    <tr>\n",
       "      <th>1454</th>\n",
       "      <td>734</td>\n",
       "      <td>test</td>\n",
       "      <td>23</td>\n",
       "      <td>positive</td>\n",
       "      <td>46</td>\n",
       "      <td>fine_speckled</td>\n",
       "      <td>69</td>\n",
       "      <td>64</td>\n",
       "    </tr>\n",
       "  </tbody>\n",
       "</table>\n",
       "<p>1455 rows × 8 columns</p>\n",
       "</div>"
      ],
      "text/plain": [
       "      ICPR2012Contest_Cell_ID       Set  Image Intensity  Original_cell_ID  \\\n",
       "0                           1  training     18  positive                30   \n",
       "1                           2  training      6  positive                14   \n",
       "2                           3  training      1  positive                54   \n",
       "3                           4  training      8  positive                25   \n",
       "4                           5  training      8  positive                32   \n",
       "...                       ...       ...    ...       ...               ...   \n",
       "1450                      730      test     22  positive                48   \n",
       "1451                      731      test     27  positive                17   \n",
       "1452                      732      test     24  positive                47   \n",
       "1453                      733      test     27  positive                43   \n",
       "1454                      734      test     23  positive                46   \n",
       "\n",
       "           Cell_class  Cell_width  Cell_height  \n",
       "0         homogeneous          67           98  \n",
       "1     coarse_speckled          83           76  \n",
       "2         homogeneous          94           80  \n",
       "3           nucleolar          96           72  \n",
       "4           nucleolar          82           83  \n",
       "...               ...         ...          ...  \n",
       "1450      homogeneous          74           82  \n",
       "1451    cytoplasmatic          78          209  \n",
       "1452        nucleolar          85           97  \n",
       "1453    cytoplasmatic          78           91  \n",
       "1454    fine_speckled          69           64  \n",
       "\n",
       "[1455 rows x 8 columns]"
      ]
     },
     "execution_count": 10,
     "metadata": {},
     "output_type": "execute_result"
    }
   ],
   "source": [
    "import pandas as pd\n",
    "\n",
    "# Load the CSV file\n",
    "csv_file_path = 'C:/Users/TANISHQ/Documents/GitHub/HEp2-Cell-Classification-Survey/MIVIA_HEp-2_Images_Dataset/ICPR2012_Cells_Classification_Contest/cells.csv'  # Change this to your CSV file path\n",
    "data = pd.read_csv(csv_file_path, sep=\";\")  # Use sep=';' to handle the semicolon delimiter\n",
    "\n",
    "data\n"
   ]
  },
  {
   "cell_type": "code",
   "execution_count": 11,
   "metadata": {},
   "outputs": [
    {
     "name": "stdout",
     "output_type": "stream",
     "text": [
      "Training data shape: (721, 8)\n",
      "Testing data shape: (734, 8)\n",
      "Training images: [1, 2, 3, 4, 5, 6, 7, 8, 9, 10, 11, 12, 13, 14, 15, 16, 17, 18, 19, 20, 21, 22, 23, 24, 25, 26, 27, 28, 29, 30, 31, 32, 33, 34, 35, 36, 37, 38, 39, 40, 41, 42, 43, 44, 45, 46, 47, 48, 49, 50, 51, 52, 53, 54, 55, 56, 57, 58, 59, 60, 61, 62, 63, 64, 65, 66, 67, 68, 69, 70, 71, 72, 73, 74, 75, 76, 77, 78, 79, 80, 81, 82, 83, 84, 85, 86, 87, 88, 89, 90, 91, 92, 93, 94, 95, 96, 97, 98, 99, 100, 101, 102, 103, 104, 105, 106, 107, 108, 109, 110, 111, 112, 113, 114, 115, 116, 117, 118, 119, 120, 121, 122, 123, 124, 125, 126, 127, 128, 129, 130, 131, 132, 133, 134, 135, 136, 137, 138, 139, 140, 141, 142, 143, 144, 145, 146, 147, 148, 149, 150, 151, 152, 153, 154, 155, 156, 157, 158, 159, 160, 161, 162, 163, 164, 165, 166, 167, 168, 169, 170, 171, 172, 173, 174, 175, 176, 177, 178, 179, 180, 181, 182, 183, 184, 185, 186, 187, 188, 189, 190, 191, 192, 193, 194, 195, 196, 197, 198, 199, 200, 201, 202, 203, 204, 205, 206, 207, 208, 209, 210, 211, 212, 213, 214, 215, 216, 217, 218, 219, 220, 221, 222, 223, 224, 225, 226, 227, 228, 229, 230, 231, 232, 233, 234, 235, 236, 237, 238, 239, 240, 241, 242, 243, 244, 245, 246, 247, 248, 249, 250, 251, 252, 253, 254, 255, 256, 257, 258, 259, 260, 261, 262, 263, 264, 265, 266, 267, 268, 269, 270, 271, 272, 273, 274, 275, 276, 277, 278, 279, 280, 281, 282, 283, 284, 285, 286, 287, 288, 289, 290, 291, 292, 293, 294, 295, 296, 297, 298, 299, 300, 301, 302, 303, 304, 305, 306, 307, 308, 309, 310, 311, 312, 313, 314, 315, 316, 317, 318, 319, 320, 321, 322, 323, 324, 325, 326, 327, 328, 329, 330, 331, 332, 333, 334, 335, 336, 337, 338, 339, 340, 341, 342, 343, 344, 345, 346, 347, 348, 349, 350, 351, 352, 353, 354, 355, 356, 357, 358, 359, 360, 361, 362, 363, 364, 365, 366, 367, 368, 369, 370, 371, 372, 373, 374, 375, 376, 377, 378, 379, 380, 381, 382, 383, 384, 385, 386, 387, 388, 389, 390, 391, 392, 393, 394, 395, 396, 397, 398, 399, 400, 401, 402, 403, 404, 405, 406, 407, 408, 409, 410, 411, 412, 413, 414, 415, 416, 417, 418, 419, 420, 421, 422, 423, 424, 425, 426, 427, 428, 429, 430, 431, 432, 433, 434, 435, 436, 437, 438, 439, 440, 441, 442, 443, 444, 445, 446, 447, 448, 449, 450, 451, 452, 453, 454, 455, 456, 457, 458, 459, 460, 461, 462, 463, 464, 465, 466, 467, 468, 469, 470, 471, 472, 473, 474, 475, 476, 477, 478, 479, 480, 481, 482, 483, 484, 485, 486, 487, 488, 489, 490, 491, 492, 493, 494, 495, 496, 497, 498, 499, 500, 501, 502, 503, 504, 505, 506, 507, 508, 509, 510, 511, 512, 513, 514, 515, 516, 517, 518, 519, 520, 521, 522, 523, 524, 525, 526, 527, 528, 529, 530, 531, 532, 533, 534, 535, 536, 537, 538, 539, 540, 541, 542, 543, 544, 545, 546, 547, 548, 549, 550, 551, 552, 553, 554, 555, 556, 557, 558, 559, 560, 561, 562, 563, 564, 565, 566, 567, 568, 569, 570, 571, 572, 573, 574, 575, 576, 577, 578, 579, 580, 581, 582, 583, 584, 585, 586, 587, 588, 589, 590, 591, 592, 593, 594, 595, 596, 597, 598, 599, 600, 601, 602, 603, 604, 605, 606, 607, 608, 609, 610, 611, 612, 613, 614, 615, 616, 617, 618, 619, 620, 621, 622, 623, 624, 625, 626, 627, 628, 629, 630, 631, 632, 633, 634, 635, 636, 637, 638, 639, 640, 641, 642, 643, 644, 645, 646, 647, 648, 649, 650, 651, 652, 653, 654, 655, 656, 657, 658, 659, 660, 661, 662, 663, 664, 665, 666, 667, 668, 669, 670, 671, 672, 673, 674, 675, 676, 677, 678, 679, 680, 681, 682, 683, 684, 685, 686, 687, 688, 689, 690, 691, 692, 693, 694, 695, 696, 697, 698, 699, 700, 701, 702, 703, 704, 705, 706, 707, 708, 709, 710, 711, 712, 713, 714, 715, 716, 717, 718, 719, 720, 721]\n",
      "Training classes: ['homogeneous', 'coarse_speckled', 'homogeneous', 'nucleolar', 'nucleolar', 'centromere', 'centromere', 'centromere', 'homogeneous', 'centromere', 'coarse_speckled', 'fine_speckled', 'homogeneous', 'cytoplasmatic', 'homogeneous', 'homogeneous', 'centromere', 'homogeneous', 'centromere', 'centromere', 'homogeneous', 'fine_speckled', 'coarse_speckled', 'centromere', 'coarse_speckled', 'homogeneous', 'homogeneous', 'centromere', 'centromere', 'coarse_speckled', 'homogeneous', 'cytoplasmatic', 'nucleolar', 'fine_speckled', 'centromere', 'cytoplasmatic', 'centromere', 'homogeneous', 'nucleolar', 'centromere', 'fine_speckled', 'coarse_speckled', 'nucleolar', 'centromere', 'coarse_speckled', 'homogeneous', 'homogeneous', 'fine_speckled', 'centromere', 'homogeneous', 'centromere', 'fine_speckled', 'centromere', 'fine_speckled', 'centromere', 'nucleolar', 'homogeneous', 'nucleolar', 'centromere', 'centromere', 'centromere', 'nucleolar', 'fine_speckled', 'centromere', 'coarse_speckled', 'centromere', 'centromere', 'cytoplasmatic', 'centromere', 'centromere', 'homogeneous', 'coarse_speckled', 'homogeneous', 'coarse_speckled', 'centromere', 'centromere', 'nucleolar', 'centromere', 'homogeneous', 'centromere', 'nucleolar', 'centromere', 'coarse_speckled', 'centromere', 'homogeneous', 'homogeneous', 'centromere', 'fine_speckled', 'nucleolar', 'fine_speckled', 'centromere', 'centromere', 'centromere', 'centromere', 'coarse_speckled', 'coarse_speckled', 'centromere', 'coarse_speckled', 'centromere', 'homogeneous', 'fine_speckled', 'nucleolar', 'cytoplasmatic', 'centromere', 'fine_speckled', 'centromere', 'coarse_speckled', 'nucleolar', 'nucleolar', 'fine_speckled', 'centromere', 'homogeneous', 'homogeneous', 'centromere', 'homogeneous', 'fine_speckled', 'homogeneous', 'homogeneous', 'fine_speckled', 'centromere', 'coarse_speckled', 'centromere', 'centromere', 'fine_speckled', 'homogeneous', 'centromere', 'coarse_speckled', 'nucleolar', 'centromere', 'fine_speckled', 'centromere', 'cytoplasmatic', 'centromere', 'centromere', 'centromere', 'centromere', 'fine_speckled', 'centromere', 'cytoplasmatic', 'nucleolar', 'homogeneous', 'nucleolar', 'coarse_speckled', 'centromere', 'coarse_speckled', 'centromere', 'nucleolar', 'coarse_speckled', 'homogeneous', 'homogeneous', 'cytoplasmatic', 'centromere', 'centromere', 'coarse_speckled', 'coarse_speckled', 'homogeneous', 'centromere', 'coarse_speckled', 'fine_speckled', 'homogeneous', 'centromere', 'coarse_speckled', 'nucleolar', 'centromere', 'nucleolar', 'fine_speckled', 'homogeneous', 'nucleolar', 'coarse_speckled', 'coarse_speckled', 'centromere', 'coarse_speckled', 'nucleolar', 'fine_speckled', 'nucleolar', 'homogeneous', 'homogeneous', 'coarse_speckled', 'centromere', 'homogeneous', 'centromere', 'homogeneous', 'nucleolar', 'centromere', 'nucleolar', 'coarse_speckled', 'homogeneous', 'homogeneous', 'coarse_speckled', 'nucleolar', 'coarse_speckled', 'centromere', 'fine_speckled', 'nucleolar', 'fine_speckled', 'homogeneous', 'centromere', 'homogeneous', 'centromere', 'centromere', 'nucleolar', 'centromere', 'cytoplasmatic', 'coarse_speckled', 'homogeneous', 'centromere', 'centromere', 'fine_speckled', 'homogeneous', 'nucleolar', 'coarse_speckled', 'homogeneous', 'nucleolar', 'fine_speckled', 'homogeneous', 'cytoplasmatic', 'coarse_speckled', 'homogeneous', 'centromere', 'centromere', 'centromere', 'homogeneous', 'centromere', 'homogeneous', 'centromere', 'coarse_speckled', 'homogeneous', 'coarse_speckled', 'coarse_speckled', 'homogeneous', 'centromere', 'nucleolar', 'nucleolar', 'centromere', 'homogeneous', 'homogeneous', 'cytoplasmatic', 'nucleolar', 'nucleolar', 'nucleolar', 'coarse_speckled', 'nucleolar', 'nucleolar', 'coarse_speckled', 'centromere', 'homogeneous', 'homogeneous', 'fine_speckled', 'centromere', 'centromere', 'centromere', 'centromere', 'centromere', 'cytoplasmatic', 'centromere', 'homogeneous', 'fine_speckled', 'centromere', 'homogeneous', 'centromere', 'coarse_speckled', 'fine_speckled', 'nucleolar', 'cytoplasmatic', 'coarse_speckled', 'nucleolar', 'nucleolar', 'nucleolar', 'centromere', 'homogeneous', 'centromere', 'fine_speckled', 'fine_speckled', 'centromere', 'homogeneous', 'cytoplasmatic', 'homogeneous', 'fine_speckled', 'homogeneous', 'homogeneous', 'cytoplasmatic', 'homogeneous', 'homogeneous', 'fine_speckled', 'fine_speckled', 'coarse_speckled', 'fine_speckled', 'homogeneous', 'fine_speckled', 'coarse_speckled', 'centromere', 'homogeneous', 'coarse_speckled', 'homogeneous', 'nucleolar', 'centromere', 'coarse_speckled', 'centromere', 'coarse_speckled', 'homogeneous', 'centromere', 'coarse_speckled', 'homogeneous', 'fine_speckled', 'homogeneous', 'fine_speckled', 'centromere', 'fine_speckled', 'centromere', 'nucleolar', 'cytoplasmatic', 'cytoplasmatic', 'homogeneous', 'coarse_speckled', 'centromere', 'centromere', 'homogeneous', 'coarse_speckled', 'centromere', 'centromere', 'centromere', 'homogeneous', 'cytoplasmatic', 'centromere', 'cytoplasmatic', 'fine_speckled', 'nucleolar', 'cytoplasmatic', 'nucleolar', 'centromere', 'homogeneous', 'homogeneous', 'homogeneous', 'fine_speckled', 'fine_speckled', 'centromere', 'centromere', 'cytoplasmatic', 'homogeneous', 'centromere', 'centromere', 'centromere', 'nucleolar', 'nucleolar', 'homogeneous', 'centromere', 'nucleolar', 'coarse_speckled', 'homogeneous', 'centromere', 'cytoplasmatic', 'centromere', 'centromere', 'homogeneous', 'coarse_speckled', 'homogeneous', 'nucleolar', 'fine_speckled', 'nucleolar', 'nucleolar', 'coarse_speckled', 'nucleolar', 'homogeneous', 'nucleolar', 'homogeneous', 'coarse_speckled', 'coarse_speckled', 'nucleolar', 'homogeneous', 'coarse_speckled', 'homogeneous', 'centromere', 'centromere', 'coarse_speckled', 'fine_speckled', 'centromere', 'cytoplasmatic', 'homogeneous', 'centromere', 'fine_speckled', 'coarse_speckled', 'centromere', 'nucleolar', 'centromere', 'homogeneous', 'homogeneous', 'fine_speckled', 'nucleolar', 'nucleolar', 'fine_speckled', 'homogeneous', 'centromere', 'nucleolar', 'coarse_speckled', 'centromere', 'fine_speckled', 'fine_speckled', 'nucleolar', 'centromere', 'centromere', 'nucleolar', 'fine_speckled', 'fine_speckled', 'homogeneous', 'centromere', 'centromere', 'centromere', 'coarse_speckled', 'coarse_speckled', 'coarse_speckled', 'nucleolar', 'centromere', 'homogeneous', 'cytoplasmatic', 'nucleolar', 'nucleolar', 'coarse_speckled', 'centromere', 'cytoplasmatic', 'nucleolar', 'nucleolar', 'centromere', 'homogeneous', 'centromere', 'homogeneous', 'fine_speckled', 'nucleolar', 'centromere', 'centromere', 'nucleolar', 'nucleolar', 'centromere', 'homogeneous', 'nucleolar', 'coarse_speckled', 'centromere', 'fine_speckled', 'centromere', 'fine_speckled', 'homogeneous', 'fine_speckled', 'centromere', 'homogeneous', 'nucleolar', 'homogeneous', 'coarse_speckled', 'nucleolar', 'centromere', 'cytoplasmatic', 'homogeneous', 'centromere', 'cytoplasmatic', 'nucleolar', 'coarse_speckled', 'coarse_speckled', 'homogeneous', 'fine_speckled', 'centromere', 'homogeneous', 'cytoplasmatic', 'homogeneous', 'coarse_speckled', 'fine_speckled', 'homogeneous', 'fine_speckled', 'fine_speckled', 'fine_speckled', 'nucleolar', 'centromere', 'homogeneous', 'centromere', 'centromere', 'cytoplasmatic', 'centromere', 'coarse_speckled', 'centromere', 'homogeneous', 'nucleolar', 'cytoplasmatic', 'homogeneous', 'nucleolar', 'homogeneous', 'homogeneous', 'centromere', 'coarse_speckled', 'cytoplasmatic', 'centromere', 'centromere', 'nucleolar', 'centromere', 'homogeneous', 'cytoplasmatic', 'nucleolar', 'nucleolar', 'centromere', 'cytoplasmatic', 'centromere', 'centromere', 'fine_speckled', 'homogeneous', 'homogeneous', 'coarse_speckled', 'centromere', 'homogeneous', 'nucleolar', 'fine_speckled', 'cytoplasmatic', 'nucleolar', 'centromere', 'cytoplasmatic', 'homogeneous', 'nucleolar', 'coarse_speckled', 'centromere', 'centromere', 'nucleolar', 'nucleolar', 'centromere', 'fine_speckled', 'centromere', 'fine_speckled', 'centromere', 'cytoplasmatic', 'fine_speckled', 'coarse_speckled', 'nucleolar', 'cytoplasmatic', 'centromere', 'coarse_speckled', 'nucleolar', 'cytoplasmatic', 'centromere', 'coarse_speckled', 'cytoplasmatic', 'fine_speckled', 'centromere', 'coarse_speckled', 'coarse_speckled', 'cytoplasmatic', 'nucleolar', 'fine_speckled', 'fine_speckled', 'centromere', 'homogeneous', 'coarse_speckled', 'fine_speckled', 'fine_speckled', 'fine_speckled', 'centromere', 'nucleolar', 'fine_speckled', 'homogeneous', 'coarse_speckled', 'homogeneous', 'fine_speckled', 'centromere', 'cytoplasmatic', 'homogeneous', 'coarse_speckled', 'centromere', 'homogeneous', 'fine_speckled', 'homogeneous', 'homogeneous', 'nucleolar', 'coarse_speckled', 'fine_speckled', 'coarse_speckled', 'homogeneous', 'fine_speckled', 'cytoplasmatic', 'fine_speckled', 'homogeneous', 'centromere', 'centromere', 'nucleolar', 'fine_speckled', 'centromere', 'cytoplasmatic', 'homogeneous', 'homogeneous', 'cytoplasmatic', 'centromere', 'fine_speckled', 'centromere', 'centromere', 'fine_speckled', 'centromere', 'coarse_speckled', 'centromere', 'nucleolar', 'fine_speckled', 'centromere', 'centromere', 'centromere', 'centromere', 'centromere', 'coarse_speckled', 'nucleolar', 'coarse_speckled', 'coarse_speckled', 'centromere', 'homogeneous', 'fine_speckled', 'centromere', 'homogeneous', 'centromere', 'fine_speckled', 'coarse_speckled', 'nucleolar', 'homogeneous', 'homogeneous', 'homogeneous', 'homogeneous', 'nucleolar', 'nucleolar', 'coarse_speckled', 'nucleolar', 'centromere', 'homogeneous', 'centromere', 'nucleolar', 'centromere', 'fine_speckled', 'fine_speckled', 'centromere', 'nucleolar', 'homogeneous', 'fine_speckled', 'centromere', 'coarse_speckled', 'cytoplasmatic', 'homogeneous', 'cytoplasmatic', 'centromere', 'fine_speckled', 'homogeneous', 'centromere', 'homogeneous', 'centromere', 'cytoplasmatic', 'coarse_speckled', 'homogeneous', 'cytoplasmatic', 'homogeneous', 'coarse_speckled', 'centromere', 'coarse_speckled', 'centromere', 'centromere', 'coarse_speckled', 'homogeneous', 'cytoplasmatic', 'centromere', 'homogeneous', 'homogeneous', 'centromere', 'centromere', 'centromere', 'coarse_speckled', 'homogeneous', 'coarse_speckled', 'fine_speckled', 'centromere', 'fine_speckled', 'nucleolar', 'coarse_speckled', 'cytoplasmatic', 'coarse_speckled', 'fine_speckled', 'nucleolar', 'cytoplasmatic', 'centromere', 'centromere', 'fine_speckled', 'coarse_speckled', 'nucleolar', 'centromere', 'cytoplasmatic', 'homogeneous', 'coarse_speckled', 'homogeneous', 'fine_speckled', 'nucleolar', 'homogeneous', 'cytoplasmatic', 'centromere', 'homogeneous', 'centromere', 'coarse_speckled', 'cytoplasmatic', 'centromere', 'centromere', 'nucleolar', 'coarse_speckled', 'homogeneous', 'fine_speckled', 'centromere', 'fine_speckled', 'fine_speckled', 'coarse_speckled', 'coarse_speckled', 'cytoplasmatic', 'cytoplasmatic', 'homogeneous', 'cytoplasmatic', 'centromere', 'cytoplasmatic', 'coarse_speckled', 'coarse_speckled', 'coarse_speckled', 'homogeneous', 'coarse_speckled', 'homogeneous', 'coarse_speckled', 'centromere', 'homogeneous', 'centromere', 'coarse_speckled', 'homogeneous', 'coarse_speckled']\n",
      "Testing images: [1, 2, 3, 4, 5, 6, 7, 8, 9, 10, 11, 12, 13, 14, 15, 16, 17, 18, 19, 20, 21, 22, 23, 24, 25, 26, 27, 28, 29, 30, 31, 32, 33, 34, 35, 36, 37, 38, 39, 40, 41, 42, 43, 44, 45, 46, 47, 48, 49, 50, 51, 52, 53, 54, 55, 56, 57, 58, 59, 60, 61, 62, 63, 64, 65, 66, 67, 68, 69, 70, 71, 72, 73, 74, 75, 76, 77, 78, 79, 80, 81, 82, 83, 84, 85, 86, 87, 88, 89, 90, 91, 92, 93, 94, 95, 96, 97, 98, 99, 100, 101, 102, 103, 104, 105, 106, 107, 108, 109, 110, 111, 112, 113, 114, 115, 116, 117, 118, 119, 120, 121, 122, 123, 124, 125, 126, 127, 128, 129, 130, 131, 132, 133, 134, 135, 136, 137, 138, 139, 140, 141, 142, 143, 144, 145, 146, 147, 148, 149, 150, 151, 152, 153, 154, 155, 156, 157, 158, 159, 160, 161, 162, 163, 164, 165, 166, 167, 168, 169, 170, 171, 172, 173, 174, 175, 176, 177, 178, 179, 180, 181, 182, 183, 184, 185, 186, 187, 188, 189, 190, 191, 192, 193, 194, 195, 196, 197, 198, 199, 200, 201, 202, 203, 204, 205, 206, 207, 208, 209, 210, 211, 212, 213, 214, 215, 216, 217, 218, 219, 220, 221, 222, 223, 224, 225, 226, 227, 228, 229, 230, 231, 232, 233, 234, 235, 236, 237, 238, 239, 240, 241, 242, 243, 244, 245, 246, 247, 248, 249, 250, 251, 252, 253, 254, 255, 256, 257, 258, 259, 260, 261, 262, 263, 264, 265, 266, 267, 268, 269, 270, 271, 272, 273, 274, 275, 276, 277, 278, 279, 280, 281, 282, 283, 284, 285, 286, 287, 288, 289, 290, 291, 292, 293, 294, 295, 296, 297, 298, 299, 300, 301, 302, 303, 304, 305, 306, 307, 308, 309, 310, 311, 312, 313, 314, 315, 316, 317, 318, 319, 320, 321, 322, 323, 324, 325, 326, 327, 328, 329, 330, 331, 332, 333, 334, 335, 336, 337, 338, 339, 340, 341, 342, 343, 344, 345, 346, 347, 348, 349, 350, 351, 352, 353, 354, 355, 356, 357, 358, 359, 360, 361, 362, 363, 364, 365, 366, 367, 368, 369, 370, 371, 372, 373, 374, 375, 376, 377, 378, 379, 380, 381, 382, 383, 384, 385, 386, 387, 388, 389, 390, 391, 392, 393, 394, 395, 396, 397, 398, 399, 400, 401, 402, 403, 404, 405, 406, 407, 408, 409, 410, 411, 412, 413, 414, 415, 416, 417, 418, 419, 420, 421, 422, 423, 424, 425, 426, 427, 428, 429, 430, 431, 432, 433, 434, 435, 436, 437, 438, 439, 440, 441, 442, 443, 444, 445, 446, 447, 448, 449, 450, 451, 452, 453, 454, 455, 456, 457, 458, 459, 460, 461, 462, 463, 464, 465, 466, 467, 468, 469, 470, 471, 472, 473, 474, 475, 476, 477, 478, 479, 480, 481, 482, 483, 484, 485, 486, 487, 488, 489, 490, 491, 492, 493, 494, 495, 496, 497, 498, 499, 500, 501, 502, 503, 504, 505, 506, 507, 508, 509, 510, 511, 512, 513, 514, 515, 516, 517, 518, 519, 520, 521, 522, 523, 524, 525, 526, 527, 528, 529, 530, 531, 532, 533, 534, 535, 536, 537, 538, 539, 540, 541, 542, 543, 544, 545, 546, 547, 548, 549, 550, 551, 552, 553, 554, 555, 556, 557, 558, 559, 560, 561, 562, 563, 564, 565, 566, 567, 568, 569, 570, 571, 572, 573, 574, 575, 576, 577, 578, 579, 580, 581, 582, 583, 584, 585, 586, 587, 588, 589, 590, 591, 592, 593, 594, 595, 596, 597, 598, 599, 600, 601, 602, 603, 604, 605, 606, 607, 608, 609, 610, 611, 612, 613, 614, 615, 616, 617, 618, 619, 620, 621, 622, 623, 624, 625, 626, 627, 628, 629, 630, 631, 632, 633, 634, 635, 636, 637, 638, 639, 640, 641, 642, 643, 644, 645, 646, 647, 648, 649, 650, 651, 652, 653, 654, 655, 656, 657, 658, 659, 660, 661, 662, 663, 664, 665, 666, 667, 668, 669, 670, 671, 672, 673, 674, 675, 676, 677, 678, 679, 680, 681, 682, 683, 684, 685, 686, 687, 688, 689, 690, 691, 692, 693, 694, 695, 696, 697, 698, 699, 700, 701, 702, 703, 704, 705, 706, 707, 708, 709, 710, 711, 712, 713, 714, 715, 716, 717, 718, 719, 720, 721, 722, 723, 724, 725, 726, 727, 728, 729, 730, 731, 732, 733, 734]\n",
      "Testing classes: ['nucleolar', 'nucleolar', 'nucleolar', 'homogeneous', 'homogeneous', 'coarse_speckled', 'homogeneous', 'centromere', 'nucleolar', 'nucleolar', 'coarse_speckled', 'cytoplasmatic', 'coarse_speckled', 'fine_speckled', 'centromere', 'nucleolar', 'homogeneous', 'centromere', 'centromere', 'centromere', 'coarse_speckled', 'centromere', 'coarse_speckled', 'homogeneous', 'coarse_speckled', 'homogeneous', 'nucleolar', 'centromere', 'nucleolar', 'nucleolar', 'nucleolar', 'centromere', 'fine_speckled', 'centromere', 'fine_speckled', 'coarse_speckled', 'homogeneous', 'centromere', 'coarse_speckled', 'fine_speckled', 'homogeneous', 'coarse_speckled', 'homogeneous', 'fine_speckled', 'fine_speckled', 'coarse_speckled', 'coarse_speckled', 'fine_speckled', 'homogeneous', 'homogeneous', 'cytoplasmatic', 'nucleolar', 'coarse_speckled', 'nucleolar', 'fine_speckled', 'coarse_speckled', 'nucleolar', 'centromere', 'centromere', 'centromere', 'nucleolar', 'coarse_speckled', 'coarse_speckled', 'nucleolar', 'centromere', 'homogeneous', 'nucleolar', 'homogeneous', 'homogeneous', 'homogeneous', 'fine_speckled', 'nucleolar', 'fine_speckled', 'coarse_speckled', 'centromere', 'fine_speckled', 'centromere', 'coarse_speckled', 'coarse_speckled', 'nucleolar', 'homogeneous', 'coarse_speckled', 'nucleolar', 'nucleolar', 'homogeneous', 'centromere', 'cytoplasmatic', 'nucleolar', 'nucleolar', 'centromere', 'fine_speckled', 'cytoplasmatic', 'cytoplasmatic', 'fine_speckled', 'nucleolar', 'homogeneous', 'nucleolar', 'centromere', 'homogeneous', 'centromere', 'coarse_speckled', 'cytoplasmatic', 'homogeneous', 'homogeneous', 'coarse_speckled', 'homogeneous', 'centromere', 'coarse_speckled', 'fine_speckled', 'fine_speckled', 'fine_speckled', 'nucleolar', 'cytoplasmatic', 'centromere', 'homogeneous', 'fine_speckled', 'centromere', 'centromere', 'nucleolar', 'fine_speckled', 'homogeneous', 'nucleolar', 'centromere', 'homogeneous', 'fine_speckled', 'fine_speckled', 'homogeneous', 'coarse_speckled', 'centromere', 'nucleolar', 'coarse_speckled', 'centromere', 'coarse_speckled', 'coarse_speckled', 'homogeneous', 'fine_speckled', 'nucleolar', 'homogeneous', 'homogeneous', 'nucleolar', 'coarse_speckled', 'cytoplasmatic', 'coarse_speckled', 'centromere', 'cytoplasmatic', 'nucleolar', 'cytoplasmatic', 'coarse_speckled', 'centromere', 'homogeneous', 'homogeneous', 'nucleolar', 'fine_speckled', 'coarse_speckled', 'homogeneous', 'homogeneous', 'nucleolar', 'homogeneous', 'homogeneous', 'centromere', 'nucleolar', 'fine_speckled', 'cytoplasmatic', 'centromere', 'homogeneous', 'centromere', 'coarse_speckled', 'centromere', 'homogeneous', 'homogeneous', 'homogeneous', 'centromere', 'homogeneous', 'nucleolar', 'homogeneous', 'nucleolar', 'centromere', 'homogeneous', 'coarse_speckled', 'coarse_speckled', 'homogeneous', 'centromere', 'cytoplasmatic', 'centromere', 'cytoplasmatic', 'centromere', 'homogeneous', 'coarse_speckled', 'homogeneous', 'cytoplasmatic', 'homogeneous', 'homogeneous', 'fine_speckled', 'coarse_speckled', 'nucleolar', 'homogeneous', 'homogeneous', 'centromere', 'homogeneous', 'coarse_speckled', 'nucleolar', 'homogeneous', 'coarse_speckled', 'homogeneous', 'homogeneous', 'centromere', 'cytoplasmatic', 'homogeneous', 'nucleolar', 'nucleolar', 'homogeneous', 'centromere', 'fine_speckled', 'nucleolar', 'centromere', 'nucleolar', 'nucleolar', 'coarse_speckled', 'homogeneous', 'coarse_speckled', 'coarse_speckled', 'coarse_speckled', 'fine_speckled', 'cytoplasmatic', 'fine_speckled', 'cytoplasmatic', 'nucleolar', 'coarse_speckled', 'homogeneous', 'nucleolar', 'homogeneous', 'nucleolar', 'centromere', 'homogeneous', 'fine_speckled', 'fine_speckled', 'homogeneous', 'homogeneous', 'homogeneous', 'nucleolar', 'cytoplasmatic', 'centromere', 'fine_speckled', 'nucleolar', 'homogeneous', 'nucleolar', 'nucleolar', 'homogeneous', 'homogeneous', 'homogeneous', 'centromere', 'fine_speckled', 'fine_speckled', 'homogeneous', 'coarse_speckled', 'homogeneous', 'coarse_speckled', 'coarse_speckled', 'centromere', 'homogeneous', 'homogeneous', 'centromere', 'fine_speckled', 'cytoplasmatic', 'centromere', 'coarse_speckled', 'cytoplasmatic', 'homogeneous', 'cytoplasmatic', 'cytoplasmatic', 'coarse_speckled', 'fine_speckled', 'fine_speckled', 'fine_speckled', 'coarse_speckled', 'coarse_speckled', 'nucleolar', 'coarse_speckled', 'centromere', 'homogeneous', 'homogeneous', 'fine_speckled', 'nucleolar', 'coarse_speckled', 'centromere', 'nucleolar', 'homogeneous', 'nucleolar', 'nucleolar', 'fine_speckled', 'fine_speckled', 'centromere', 'coarse_speckled', 'coarse_speckled', 'centromere', 'coarse_speckled', 'homogeneous', 'fine_speckled', 'fine_speckled', 'centromere', 'nucleolar', 'centromere', 'centromere', 'coarse_speckled', 'homogeneous', 'homogeneous', 'nucleolar', 'fine_speckled', 'fine_speckled', 'centromere', 'homogeneous', 'homogeneous', 'cytoplasmatic', 'nucleolar', 'fine_speckled', 'fine_speckled', 'nucleolar', 'nucleolar', 'centromere', 'centromere', 'centromere', 'centromere', 'nucleolar', 'homogeneous', 'fine_speckled', 'cytoplasmatic', 'centromere', 'homogeneous', 'centromere', 'centromere', 'centromere', 'fine_speckled', 'coarse_speckled', 'nucleolar', 'centromere', 'fine_speckled', 'nucleolar', 'centromere', 'nucleolar', 'centromere', 'centromere', 'nucleolar', 'coarse_speckled', 'cytoplasmatic', 'centromere', 'nucleolar', 'homogeneous', 'cytoplasmatic', 'centromere', 'fine_speckled', 'centromere', 'nucleolar', 'centromere', 'centromere', 'fine_speckled', 'homogeneous', 'nucleolar', 'homogeneous', 'homogeneous', 'cytoplasmatic', 'homogeneous', 'coarse_speckled', 'centromere', 'cytoplasmatic', 'cytoplasmatic', 'nucleolar', 'centromere', 'fine_speckled', 'centromere', 'fine_speckled', 'fine_speckled', 'centromere', 'fine_speckled', 'homogeneous', 'nucleolar', 'nucleolar', 'fine_speckled', 'fine_speckled', 'coarse_speckled', 'coarse_speckled', 'centromere', 'centromere', 'centromere', 'coarse_speckled', 'homogeneous', 'nucleolar', 'homogeneous', 'fine_speckled', 'centromere', 'centromere', 'nucleolar', 'nucleolar', 'homogeneous', 'homogeneous', 'centromere', 'coarse_speckled', 'nucleolar', 'fine_speckled', 'nucleolar', 'fine_speckled', 'centromere', 'fine_speckled', 'centromere', 'fine_speckled', 'centromere', 'cytoplasmatic', 'homogeneous', 'centromere', 'centromere', 'nucleolar', 'coarse_speckled', 'coarse_speckled', 'homogeneous', 'homogeneous', 'centromere', 'centromere', 'homogeneous', 'centromere', 'homogeneous', 'coarse_speckled', 'homogeneous', 'homogeneous', 'homogeneous', 'fine_speckled', 'homogeneous', 'nucleolar', 'fine_speckled', 'homogeneous', 'nucleolar', 'coarse_speckled', 'homogeneous', 'centromere', 'cytoplasmatic', 'fine_speckled', 'centromere', 'coarse_speckled', 'coarse_speckled', 'centromere', 'fine_speckled', 'fine_speckled', 'centromere', 'cytoplasmatic', 'centromere', 'centromere', 'nucleolar', 'nucleolar', 'fine_speckled', 'homogeneous', 'fine_speckled', 'homogeneous', 'coarse_speckled', 'homogeneous', 'cytoplasmatic', 'homogeneous', 'fine_speckled', 'centromere', 'centromere', 'nucleolar', 'fine_speckled', 'fine_speckled', 'nucleolar', 'nucleolar', 'homogeneous', 'homogeneous', 'nucleolar', 'fine_speckled', 'homogeneous', 'nucleolar', 'centromere', 'fine_speckled', 'centromere', 'cytoplasmatic', 'nucleolar', 'homogeneous', 'homogeneous', 'centromere', 'centromere', 'coarse_speckled', 'cytoplasmatic', 'coarse_speckled', 'nucleolar', 'centromere', 'coarse_speckled', 'fine_speckled', 'coarse_speckled', 'centromere', 'fine_speckled', 'homogeneous', 'nucleolar', 'nucleolar', 'centromere', 'centromere', 'nucleolar', 'nucleolar', 'fine_speckled', 'nucleolar', 'fine_speckled', 'nucleolar', 'coarse_speckled', 'nucleolar', 'homogeneous', 'nucleolar', 'fine_speckled', 'homogeneous', 'homogeneous', 'homogeneous', 'centromere', 'centromere', 'nucleolar', 'cytoplasmatic', 'homogeneous', 'coarse_speckled', 'nucleolar', 'coarse_speckled', 'coarse_speckled', 'nucleolar', 'centromere', 'centromere', 'coarse_speckled', 'coarse_speckled', 'homogeneous', 'homogeneous', 'cytoplasmatic', 'coarse_speckled', 'homogeneous', 'homogeneous', 'fine_speckled', 'nucleolar', 'fine_speckled', 'nucleolar', 'homogeneous', 'homogeneous', 'nucleolar', 'nucleolar', 'homogeneous', 'homogeneous', 'homogeneous', 'fine_speckled', 'nucleolar', 'coarse_speckled', 'fine_speckled', 'centromere', 'fine_speckled', 'fine_speckled', 'centromere', 'fine_speckled', 'homogeneous', 'centromere', 'homogeneous', 'centromere', 'fine_speckled', 'homogeneous', 'coarse_speckled', 'cytoplasmatic', 'fine_speckled', 'centromere', 'nucleolar', 'nucleolar', 'fine_speckled', 'nucleolar', 'nucleolar', 'homogeneous', 'homogeneous', 'fine_speckled', 'homogeneous', 'cytoplasmatic', 'homogeneous', 'coarse_speckled', 'centromere', 'coarse_speckled', 'nucleolar', 'fine_speckled', 'cytoplasmatic', 'homogeneous', 'centromere', 'cytoplasmatic', 'fine_speckled', 'homogeneous', 'coarse_speckled', 'centromere', 'homogeneous', 'nucleolar', 'homogeneous', 'homogeneous', 'centromere', 'nucleolar', 'nucleolar', 'homogeneous', 'centromere', 'homogeneous', 'nucleolar', 'nucleolar', 'centromere', 'nucleolar', 'nucleolar', 'centromere', 'nucleolar', 'fine_speckled', 'nucleolar', 'centromere', 'coarse_speckled', 'coarse_speckled', 'homogeneous', 'centromere', 'homogeneous', 'homogeneous', 'nucleolar', 'coarse_speckled', 'coarse_speckled', 'fine_speckled', 'coarse_speckled', 'homogeneous', 'nucleolar', 'centromere', 'centromere', 'homogeneous', 'homogeneous', 'homogeneous', 'centromere', 'centromere', 'homogeneous', 'nucleolar', 'fine_speckled', 'coarse_speckled', 'coarse_speckled', 'coarse_speckled', 'centromere', 'homogeneous', 'centromere', 'nucleolar', 'homogeneous', 'coarse_speckled', 'homogeneous', 'centromere', 'centromere', 'homogeneous', 'cytoplasmatic', 'coarse_speckled', 'homogeneous', 'fine_speckled', 'homogeneous', 'coarse_speckled', 'fine_speckled', 'centromere', 'fine_speckled', 'cytoplasmatic', 'nucleolar', 'nucleolar', 'homogeneous', 'cytoplasmatic', 'cytoplasmatic', 'homogeneous', 'homogeneous', 'coarse_speckled', 'centromere', 'nucleolar', 'fine_speckled', 'homogeneous', 'cytoplasmatic', 'homogeneous', 'nucleolar', 'centromere', 'homogeneous', 'coarse_speckled', 'centromere', 'fine_speckled', 'centromere', 'cytoplasmatic', 'homogeneous', 'fine_speckled', 'homogeneous', 'nucleolar', 'coarse_speckled', 'homogeneous', 'homogeneous', 'fine_speckled', 'homogeneous', 'centromere', 'centromere', 'fine_speckled', 'nucleolar', 'fine_speckled', 'nucleolar', 'nucleolar', 'fine_speckled', 'homogeneous', 'nucleolar', 'centromere', 'homogeneous', 'fine_speckled', 'homogeneous', 'nucleolar', 'nucleolar', 'fine_speckled', 'fine_speckled', 'centromere', 'centromere', 'cytoplasmatic', 'centromere', 'centromere', 'homogeneous', 'nucleolar', 'homogeneous', 'homogeneous', 'centromere', 'fine_speckled', 'homogeneous', 'centromere', 'homogeneous', 'homogeneous', 'fine_speckled', 'homogeneous', 'fine_speckled', 'nucleolar', 'coarse_speckled', 'fine_speckled', 'centromere', 'coarse_speckled', 'homogeneous', 'nucleolar', 'fine_speckled', 'nucleolar', 'centromere', 'cytoplasmatic', 'fine_speckled', 'homogeneous', 'nucleolar', 'homogeneous', 'homogeneous', 'homogeneous', 'cytoplasmatic', 'nucleolar', 'cytoplasmatic', 'fine_speckled']\n"
     ]
    }
   ],
   "source": [
    "# Separate the data into training and testing sets\n",
    "training_data = data[data['Set'] == 'training']\n",
    "testing_data = data[data['Set'] == 'test']\n",
    "\n",
    "# Display the shapes of the training and testing sets\n",
    "print(\"Training data shape:\", training_data.shape)\n",
    "print(\"Testing data shape:\", testing_data.shape)\n",
    "\n",
    "# Example of accessing specific columns\n",
    "training_images = training_data['ICPR2012Contest_Cell_ID'].tolist()  # List of training images\n",
    "training_classes = training_data['Cell_class'].tolist()  # List of cell classes for training images\n",
    "\n",
    "testing_images = testing_data['ICPR2012Contest_Cell_ID'].tolist()  # List of testing images\n",
    "testing_classes = testing_data['Cell_class'].tolist()  # List of cell classes for testing images\n",
    "\n",
    "# Display the lists\n",
    "print(\"Training images:\", training_images)\n",
    "print(\"Training classes:\", training_classes)\n",
    "print(\"Testing images:\", testing_images)\n",
    "print(\"Testing classes:\", testing_classes)\n"
   ]
  },
  {
   "cell_type": "code",
   "execution_count": 12,
   "metadata": {},
   "outputs": [
    {
     "data": {
      "text/plain": [
       "'\\n    Homogenous: 1\\n    Fine Speckled: 2\\n    Centromere: 3\\n    Nucleolar: 4\\n    Coarse Speckled: 5\\n    Cytoplasmic: 6\\n'"
      ]
     },
     "execution_count": 12,
     "metadata": {},
     "output_type": "execute_result"
    }
   ],
   "source": [
    "\"\"\"\n",
    "    Homogenous: 1\n",
    "    Fine Speckled: 2\n",
    "    Centromere: 3\n",
    "    Nucleolar: 4\n",
    "    Coarse Speckled: 5\n",
    "    Cytoplasmic: 6\n",
    "\"\"\""
   ]
  },
  {
   "cell_type": "code",
   "execution_count": 13,
   "metadata": {},
   "outputs": [],
   "source": [
    "def string_to_label(label):\n",
    "    match label:\n",
    "        case \"homogeneous\":\n",
    "            return 1\n",
    "        case \"fine_speckled\":\n",
    "            return 2\n",
    "        case \"centromere\":\n",
    "            return 3\n",
    "        case \"nucleolar\":\n",
    "            return 4\n",
    "        case \"coarse_speckled\":\n",
    "            return 5\n",
    "        case \"cytoplasmatic\":\n",
    "            return 6\n",
    "        case _:\n",
    "            return \"No Match\"\n",
    "\n",
    "\n",
    "    "
   ]
  },
  {
   "cell_type": "code",
   "execution_count": 14,
   "metadata": {},
   "outputs": [],
   "source": [
    "training_path = \"C:\\\\Users\\\\TANISHQ\\\\Documents\\\\GitHub\\\\HEp2-Cell-Classification-Survey\\\\MIVIA_HEp-2_Images_Dataset\\\\ICPR2012_Cells_Classification_Contest\\\\training\"\n",
    "testing_path = \"C:\\\\Users\\\\TANISHQ\\\\Documents\\\\GitHub\\\\HEp2-Cell-Classification-Survey\\\\MIVIA_HEp-2_Images_Dataset\\\\ICPR2012_Cells_Classification_Contest\\\\test\""
   ]
  },
  {
   "cell_type": "code",
   "execution_count": 15,
   "metadata": {},
   "outputs": [],
   "source": [
    "def load_images(main_folder, images, classes):\n",
    "    img_data = []\n",
    "    labels = []\n",
    "    for i in range(len(images)):  # Folders are numbered from 01 to 28\n",
    "        folder_path = os.path.join(main_folder, f'{images[i]:03d}.png')\n",
    "        class_label = classes[i]  # Map the folder to the appropriate class\n",
    "        # print(folder_path, string_to_label(class_label), class_label)\n",
    "        # img_path = os.path.join(folder_path, img_name)\n",
    "        # for img_name in os.listdir(folder_path):\n",
    "        img = Image.open(folder_path).convert('L')\n",
    "        img = img.resize((64, 64))  # Resize to a fixed size\n",
    "        img_array = np.array(img)\n",
    "        img = img.filter(ImageFilter.GaussianBlur(radius=1))\n",
    "        img_array = img_array.flatten()\n",
    "        img_data.append(img_array)\n",
    "        labels.append(string_to_label(class_label))\n",
    "    return img_data, labels\n",
    "          # Convert to grayscale"
   ]
  },
  {
   "cell_type": "code",
   "execution_count": 16,
   "metadata": {},
   "outputs": [],
   "source": [
    "training_data, training_labels = load_images(training_path, training_images, training_classes)\n",
    "testing_data, testing_labels = load_images(testing_path, testing_images, testing_classes)"
   ]
  },
  {
   "cell_type": "code",
   "execution_count": 17,
   "metadata": {},
   "outputs": [
    {
     "data": {
      "text/plain": [
       "(721, 721)"
      ]
     },
     "execution_count": 17,
     "metadata": {},
     "output_type": "execute_result"
    }
   ],
   "source": [
    "len(training_data), len(training_labels)"
   ]
  },
  {
   "cell_type": "code",
   "execution_count": 36,
   "metadata": {},
   "outputs": [
    {
     "data": {
      "text/plain": [
       "(1024,)"
      ]
     },
     "execution_count": 36,
     "metadata": {},
     "output_type": "execute_result"
    }
   ],
   "source": [
    "training_data[0].shape"
   ]
  },
  {
   "cell_type": "code",
   "execution_count": 18,
   "metadata": {},
   "outputs": [
    {
     "data": {
      "image/png": "[encoded data removed]",
      "text/plain": [
       "<Figure size 640x480 with 1 Axes>"
      ]
     },
     "metadata": {},
     "output_type": "display_data"
    },
    {
     "data": {
      "image/png": "[encoded data removed]",
      "text/plain": [
       "<Figure size 640x480 with 1 Axes>"
      ]
     },
     "metadata": {},
     "output_type": "display_data"
    },
    {
     "data": {
      "image/png": "[encoded data removed]",
      "text/plain": [
       "<Figure size 640x480 with 1 Axes>"
      ]
     },
     "metadata": {},
     "output_type": "display_data"
    }
   ],
   "source": [
    "import matplotlib.pyplot as plt\n",
    "plt.imshow(training_data[0].reshape((64, 64)))\n",
    "plt.title(training_classes[0])\n",
    "plt.show()\n",
    "plt.imshow(training_data[10].reshape((64, 64)))\n",
    "plt.title(training_classes[10])\n",
    "plt.show()\n",
    "plt.imshow(training_data[20].reshape((64, 64)))\n",
    "plt.title(training_classes[20])\n",
    "plt.show()"
   ]
  },
  {
   "cell_type": "code",
   "execution_count": 19,
   "metadata": {},
   "outputs": [
    {
     "data": {
      "text/plain": [
       "(734, 734)"
      ]
     },
     "execution_count": 19,
     "metadata": {},
     "output_type": "execute_result"
    }
   ],
   "source": [
    "len(testing_data), len(testing_labels)"
   ]
  },
  {
   "cell_type": "code",
   "execution_count": 20,
   "metadata": {},
   "outputs": [
    {
     "data": {
      "image/png": "[encoded data removed]",
      "text/plain": [
       "<Figure size 640x480 with 1 Axes>"
      ]
     },
     "metadata": {},
     "output_type": "display_data"
    },
    {
     "data": {
      "image/png": "[encoded data removed]",
      "text/plain": [
       "<Figure size 640x480 with 1 Axes>"
      ]
     },
     "metadata": {},
     "output_type": "display_data"
    },
    {
     "data": {
      "image/png": "[encoded data removed]",
      "text/plain": [
       "<Figure size 640x480 with 1 Axes>"
      ]
     },
     "metadata": {},
     "output_type": "display_data"
    }
   ],
   "source": [
    "plt.imshow(testing_data[0].reshape((64, 64)))\n",
    "plt.title(testing_classes[0])\n",
    "plt.show()\n",
    "plt.imshow(testing_data[10].reshape((64, 64)))\n",
    "plt.title(testing_classes[10])\n",
    "plt.show()\n",
    "plt.imshow(testing_data[20].reshape((64, 64)))\n",
    "plt.title(testing_classes[20])\n",
    "plt.show()"
   ]
  },
  {
   "cell_type": "markdown",
   "metadata": {},
   "source": [
    "# No Feature Extraction"
   ]
  },
  {
   "cell_type": "code",
   "execution_count": 21,
   "metadata": {},
   "outputs": [
    {
     "name": "stdout",
     "output_type": "stream",
     "text": [
      "Accuracy: 30.38%\n",
      "                 precision    recall  f1-score   support\n",
      "\n",
      "     centromere       0.49      0.50      0.49       149\n",
      "coarse_speckled       0.31      0.42      0.35       101\n",
      "  cytoplasmatic       0.20      0.39      0.27        51\n",
      "  fine_speckled       0.19      0.20      0.19       114\n",
      "    homogeneous       0.39      0.34      0.36       180\n",
      "      nucleolar       0.03      0.01      0.02       139\n",
      "\n",
      "       accuracy                           0.30       734\n",
      "      macro avg       0.27      0.31      0.28       734\n",
      "   weighted avg       0.29      0.30      0.29       734\n",
      "\n"
     ]
    }
   ],
   "source": [
    "# Split the data into training and testing sets\n",
    "# X_train, X_test, y_train, y_test = train_test_split(image_data, labels, test_size=0.2, random_state=42)\n",
    "\n",
    "# Create an SVM classifier\n",
    "clf = svm.SVC(kernel='linear')\n",
    "\n",
    "# Train the classifier\n",
    "clf.fit(training_data, training_classes)\n",
    "\n",
    "# Predict on the test set\n",
    "y_pred = clf.predict(testing_data)\n",
    "\n",
    "# Evaluate the classifier\n",
    "accuracy = accuracy_score(testing_classes, y_pred)\n",
    "report = classification_report(testing_classes, y_pred)\n",
    "\n",
    "print(f\"Accuracy: {accuracy * 100:.2f}%\")\n",
    "print(report)"
   ]
  },
  {
   "cell_type": "markdown",
   "metadata": {},
   "source": [
    "# LBP + SVM"
   ]
  },
  {
   "cell_type": "code",
   "execution_count": 22,
   "metadata": {},
   "outputs": [],
   "source": [
    "def load_images(main_folder, images, classes):\n",
    "    img_data = []\n",
    "    labels = []\n",
    "    for i in range(len(images)):  # Folders are numbered from 01 to 28\n",
    "        folder_path = os.path.join(main_folder, f'{images[i]:03d}.png')\n",
    "        class_label = classes[i]  # Map the folder to the appropriate class\n",
    "        # print(folder_path, string_to_label(class_label), class_label)\n",
    "        # img_path = os.path.join(folder_path, img_name)\n",
    "        # for img_name in os.listdir(folder_path):\n",
    "        img = Image.open(folder_path).convert('L')\n",
    "        img = img.resize((64, 64))\n",
    "        img = img.filter(ImageFilter.GaussianBlur(radius=1))\n",
    "          # Resize to a fixed size\n",
    "        img_array = np.array(img)\n",
    "        # img_array = img_array.flatten()\n",
    "        \n",
    "        lbp_hist = LBP(img_array)\n",
    "        img_data.append(lbp_hist)\n",
    "        labels.append(string_to_label(class_label))\n",
    "    return img_data, np.array(labels)\n",
    "          # Convert to grayscale"
   ]
  },
  {
   "cell_type": "code",
   "execution_count": 23,
   "metadata": {},
   "outputs": [],
   "source": [
    "training_data, training_labels = load_images(training_path, training_images, training_classes)\n",
    "testing_data, testing_labels = load_images(testing_path, testing_images, testing_classes)"
   ]
  },
  {
   "cell_type": "code",
   "execution_count": 24,
   "metadata": {},
   "outputs": [
    {
     "name": "stdout",
     "output_type": "stream",
     "text": [
      "Accuracy: 44.41%\n",
      "                 precision    recall  f1-score   support\n",
      "\n",
      "     centromere       0.37      0.64      0.47       149\n",
      "coarse_speckled       0.44      0.62      0.52       101\n",
      "  cytoplasmatic       0.44      0.39      0.42        51\n",
      "  fine_speckled       0.31      0.30      0.30       114\n",
      "    homogeneous       0.66      0.30      0.41       180\n",
      "      nucleolar       0.63      0.42      0.51       139\n",
      "\n",
      "       accuracy                           0.44       734\n",
      "      macro avg       0.48      0.45      0.44       734\n",
      "   weighted avg       0.50      0.44      0.44       734\n",
      "\n"
     ]
    },
    {
     "name": "stderr",
     "output_type": "stream",
     "text": [
      "c:\\Users\\TANISHQ\\AppData\\Local\\Programs\\Python\\Python312\\Lib\\site-packages\\sklearn\\svm\\_base.py:297: ConvergenceWarning: Solver terminated early (max_iter=500).  Consider pre-processing your data with StandardScaler or MinMaxScaler.\n",
      "  warnings.warn(\n"
     ]
    }
   ],
   "source": [
    "# Split the data into training and testing sets\n",
    "# X_train, X_test, y_train, y_test = train_test_split(image_data, labels, test_size=0.2, random_state=42)\n",
    "\n",
    "# Create an SVM classifier\n",
    "clf = svm.SVC(kernel='linear', max_iter=500)\n",
    "\n",
    "# Train the classifier\n",
    "clf.fit(training_data, training_classes)\n",
    "\n",
    "# Predict on the test set\n",
    "y_pred = clf.predict(testing_data)\n",
    "\n",
    "# Evaluate the classifier\n",
    "accuracy = accuracy_score(testing_classes, y_pred)\n",
    "report = classification_report(testing_classes, y_pred)\n",
    "\n",
    "print(f\"Accuracy: {accuracy * 100:.2f}%\")\n",
    "print(report)"
   ]
  },
  {
   "cell_type": "markdown",
   "metadata": {},
   "source": [
    "<!-- # CoALBP + SVM -->"
   ]
  },
  {
   "cell_type": "markdown",
   "metadata": {},
   "source": [
    "# CoALBP + SVM"
   ]
  },
  {
   "cell_type": "code",
   "execution_count": 25,
   "metadata": {},
   "outputs": [],
   "source": [
    "def load_images(main_folder, images, classes):\n",
    "    img_data = []\n",
    "    labels = []\n",
    "    for i in range(len(images)):  # Folders are numbered from 01 to 28\n",
    "        folder_path = os.path.join(main_folder, f'{images[i]:03d}.png')\n",
    "        class_label = classes[i]  # Map the folder to the appropriate class\n",
    "        # print(folder_path, string_to_label(class_label), class_label)\n",
    "        # img_path = os.path.join(folder_path, img_name)\n",
    "        # for img_name in os.listdir(folder_path):\n",
    "        image = Image.open(folder_path).convert('L')\n",
    "        img = image.resize((45, 45))  # Resize to a fixed size\n",
    "        img = img.filter(ImageFilter.GaussianBlur(radius=1))\n",
    "        img_array = np.array(img)\n",
    "\n",
    "        \n",
    "        lbp_hist = CoALBP(img_array)\n",
    "\n",
    "        # img_array = img_array.flatten()\n",
    "        img_data.append(lbp_hist)\n",
    "        labels.append(string_to_label(class_label))\n",
    "    return img_data, np.array(labels)\n",
    "          # Convert to grayscale"
   ]
  },
  {
   "cell_type": "code",
   "execution_count": 26,
   "metadata": {},
   "outputs": [],
   "source": [
    "training_data, training_labels = load_images(training_path, training_images, training_classes)\n",
    "testing_data, testing_labels = load_images(testing_path, testing_images, testing_classes)"
   ]
  },
  {
   "cell_type": "code",
   "execution_count": null,
   "metadata": {},
   "outputs": [],
   "source": []
  },
  {
   "cell_type": "code",
   "execution_count": null,
   "metadata": {},
   "outputs": [
    {
     "name": "stdout",
     "output_type": "stream",
     "text": [
      "Accuracy: 66.35%\n",
      "                 precision    recall  f1-score   support\n",
      "\n",
      "     centromere       0.68      0.81      0.74       149\n",
      "coarse_speckled       0.68      0.70      0.69       101\n",
      "  cytoplasmatic       0.57      0.90      0.70        51\n",
      "  fine_speckled       0.48      0.51      0.49       114\n",
      "    homogeneous       0.76      0.50      0.60       180\n",
      "      nucleolar       0.76      0.73      0.74       139\n",
      "\n",
      "       accuracy                           0.66       734\n",
      "      macro avg       0.66      0.69      0.66       734\n",
      "   weighted avg       0.68      0.66      0.66       734\n",
      "\n"
     ]
    },
    {
     "name": "stderr",
     "output_type": "stream",
     "text": [
      "c:\\Users\\TANISHQ\\AppData\\Local\\Programs\\Python\\Python312\\Lib\\site-packages\\sklearn\\svm\\_base.py:297: ConvergenceWarning: Solver terminated early (max_iter=100).  Consider pre-processing your data with StandardScaler or MinMaxScaler.\n",
      "  warnings.warn(\n"
     ]
    }
   ],
   "source": [
    "# Split the data into training and testing sets\n",
    "# X_train, X_test, y_train, y_test = train_test_split(image_data, labels, test_size=0.2, random_state=42)\n",
    "\n",
    "# Create an SVM classifier\n",
    "clf = svm.SVC(kernel='linear', max_iter=100)\n",
    "\n",
    "# Train the classifier\n",
    "clf.fit(training_data, training_classes)\n",
    "\n",
    "# Predict on the test set\n",
    "y_pred = clf.predict(testing_data)\n",
    "\n",
    "# Evaluate the classifier\n",
    "accuracy = accuracy_score(testing_classes, y_pred)\n",
    "report = classification_report(testing_classes, y_pred)\n",
    "\n",
    "print(f\"Accuracy: {accuracy * 100:.2f}%\")\n",
    "print(report)"
   ]
  },
  {
   "cell_type": "markdown",
   "metadata": {},
   "source": [
    "# `ICPR 2016 Dataset`"
   ]
  },
  {
   "cell_type": "code",
   "execution_count": null,
   "metadata": {},
   "outputs": [],
   "source": [
    "def load_images_whole():\n",
    "        "
   ]
  }
 ],
 "metadata": {
  "kernelspec": {
   "display_name": "Python 3",
   "language": "python",
   "name": "python3"
  },
  "language_info": {
   "codemirror_mode": {
    "name": "ipython",
    "version": 3
   },
   "file_extension": ".py",
   "mimetype": "text/x-python",
   "name": "python",
   "nbconvert_exporter": "python",
   "pygments_lexer": "ipython3",
   "version": "3.12.3"
  }
 },
 "nbformat": 4,
 "nbformat_minor": 2
}
